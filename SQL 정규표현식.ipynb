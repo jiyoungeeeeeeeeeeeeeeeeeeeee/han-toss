{
 "cells": [
  {
   "cell_type": "markdown",
   "id": "863b3754-5d7b-4718-8225-00c32cc692ab",
   "metadata": {},
   "source": [
    "## 서문"
   ]
  },
  {
   "cell_type": "markdown",
   "id": "c3e829f7-da20-48a8-8be5-563d9883cde6",
   "metadata": {},
   "source": [
    " 이병률의 시집 서문 **\"눈 냄새를 맡았는데 맡는 중이었음에도 눈의 냄새가 사무치게, 그리웠다.\"** 라 쓰여있다.\n",
    "\n",
    "\n",
    "<구의 증명> 작가의 말에서도 (놀랍게도) **\"글을 쓰면서도 글을 쓰고 싶다.\"** 고 적혀있다.\n",
    " \n",
    " \n",
    " 작가의 정점에 서 있는 두 사람의 공통된 양상을 미루어 볼 때, 어쩌면 사랑이라는 것은 평생 해소되지 않는 갈증을 안고 가야 하는 숙명일지도 모르겠다.\n",
    "\n"
   ]
  },
  {
   "cell_type": "markdown",
   "id": "6ff6bd2f-09b8-4f84-a6b0-d06fa91263e8",
   "metadata": {},
   "source": [
    "  이 이야기를 갑자기 왜 하냐면, 망할 SQL을 배우며 내가 느낀 것과 비슷하기 때문이다. SQL을 배울수록 SQL을 모르겠다. 더 절망적인 점은 , 그렇다고 배우고 싶다거나 모른다고 해서, 미지의 영역을 구축해야겠다는 마음이 생기지 않는다는 것이다.\n"
   ]
  },
  {
   "cell_type": "markdown",
   "id": "f55b9efb-8b5a-4f81-8063-1db9109a4f11",
   "metadata": {},
   "source": [
    "연인으로 발전하는 관계에서 적당한 밀당은 효과적일지도 모르나, 너무 과한 밀당은 오히려 역효과를 내듯이, 이 SQL의 알 듯 말 듯한 문법에서 나는 지쳤고, 그만 헤어지고 싶다. \n",
    "SQL 특유의 도도함과 싸가지는 나를 지치게 함에 충분했다.\n",
    "\n",
    "그럼에도, 이 글을 쓰는 이유는 그냥 하라고 해서 한다.\n",
    "\n"
   ]
  },
  {
   "cell_type": "markdown",
   "id": "4db1b6e5-3614-4901-8f31-89696a4df512",
   "metadata": {},
   "source": [
    "![IMG_0367](https://github.com/user-attachments/assets/5652a103-dc47-4023-9b82-d7c2f1361107)\n"
   ]
  },
  {
   "cell_type": "markdown",
   "id": "9ce4596d-24a9-4165-9029-cf091e9eb87b",
   "metadata": {},
   "source": [
    "솔직히 이 글을 쓰면서도 SQL의 마음을 모르겠다. 궁예가 관심법을 써도 모를 것이다."
   ]
  },
  {
   "cell_type": "markdown",
   "id": "a947675a-89bc-43ca-b366-2cf0ae29ef5c",
   "metadata": {},
   "source": [
    "## [왜 SQL을 배워야 하는가?](https://youtu.be/z9chRlD1tec?feature=shared)\n"
   ]
  },
  {
   "cell_type": "code",
   "execution_count": 14,
   "id": "aee62f59-490f-4160-8154-e6db5f4b997a",
   "metadata": {},
   "outputs": [],
   "source": [
    "from IPython.display import YouTubeVideo"
   ]
  },
  {
   "cell_type": "code",
   "execution_count": 22,
   "id": "c6451d38-77e1-40f0-9488-9b8501b6c16e",
   "metadata": {},
   "outputs": [
    {
     "data": {
      "text/html": [
       "\n",
       "        <iframe\n",
       "            width=\"400\"\n",
       "            height=\"300\"\n",
       "            src=\"https://www.youtube.com/embed/z9chRlD1tec?si=tyaYey-KbvgbRrce\"\n",
       "            frameborder=\"0\"\n",
       "            allowfullscreen\n",
       "            \n",
       "        ></iframe>\n",
       "        "
      ],
      "text/plain": [
       "<IPython.lib.display.YouTubeVideo at 0x29422793eb0>"
      ]
     },
     "execution_count": 22,
     "metadata": {},
     "output_type": "execute_result"
    }
   ],
   "source": [
    "YouTubeVideo('z9chRlD1tec?si=tyaYey-KbvgbRrce')"
   ]
  },
  {
   "cell_type": "markdown",
   "id": "a156a3ed-aa99-483b-b4b3-33014796c9f4",
   "metadata": {},
   "source": [
    "- SQL은 데아터베이스와 대화하기 위해 특별히 디자인된 언어다.\n",
    "- SQL에는 두 가지 종류가 있다. 1) Relational 2) Non-Relational\n",
    "- 안타깝게도 대부분의 회사에서 SQL을 사용한다.\n",
    "- ORM : 파이썬을 가져와서 SQL 코드로 바꿔주는 일 한다.\n",
    "문제는 ORM에 의존하게 된다는 것이다. (나같아도 의존할 듯)\n",
    "더 빠르게 해결해야 하거나 , 뭔가 안되는 상황이 오면 어떻게 대처해야 할 지 모른다.\n",
    "\n",
    "    따라서 결국 SQL을 기본적인 문법을 아는 정도라도 배워두는 것이 좋다고 한다."
   ]
  },
  {
   "cell_type": "markdown",
   "id": "64dbfb6d-64ea-430f-bfc7-8dda1b07a1d2",
   "metadata": {},
   "source": [
    "## [정규표현식(正規表現式, Regular Expression)](https://ko.wikipedia.org/wiki/%EC%A0%95%EA%B7%9C_%ED%91%9C%ED%98%84%EC%8B%9D)"
   ]
  },
  {
   "cell_type": "markdown",
   "id": "1525e028-9bc3-4d25-888d-3a41efcd479a",
   "metadata": {},
   "source": [
    "SQL도 벅찬데 정규 표현식을 배워야한단다.\n",
    "그럼 자연스럽게 따라오는 의문은\n",
    "\n",
    "<정규 표현식을 왜 쓰는가?> 에 대해 챗GPT에게 물어봤다."
   ]
  },
  {
   "cell_type": "markdown",
   "id": "d7c267ea-d93d-403b-889f-392f5e606875",
   "metadata": {},
   "source": [
    "SQL에서 정규표현식을 사용하는 이유는 주로 문자열 데이터의 **패턴 매칭과 데이터 검증**을 효율적으로 수행하기 위해서다. \n",
    "\n",
    "몇 가지 주요 이유를 살펴보면:\n",
    "\n",
    "1. **복잡한 검색 조건 처리**: 정규표현식을 사용하면 단순한 문자열 검색보다 훨씬 복잡한 패턴을 매칭할 수 있다. 예를 들어, 이메일 주소나 전화번호와 같은 특정 형식을 가진 데이터를 찾을 때 유용하다.\n",
    "\n",
    "2. **데이터 검증**: 입력된 데이터가 특정 형식을 따르는지 확인할 수 있습니다. 예를 들어, 사용자가 입력한 이메일 주소가 올바른 형식인지 검증할 때 정규표현식을 사용할 수 있다.\n",
    "\n",
    "3. **데이터 변환 및 정리**: 정규표현식을 사용하여 데이터에서 불필요한 부분을 제거하거나 특정 패턴을 다른 패턴으로 변환할 수 있다. 예를 들어, 텍스트에서 모든 공백을 제거하거나 특정 단어를 다른 단어로 치환할 수 있다.\n",
    "\n",
    "4. **유연한 쿼리 작성**: 정규표현식을 사용하면 다양한 조건을 하나의 쿼리로 처리할 수 있어 쿼리 작성이 더 유연해진다.\n",
    "\n",
    "한 줄 요약 : 패턴을 표현하기 위함"
   ]
  },
  {
   "cell_type": "markdown",
   "id": "01e3843d-bfa8-4627-8def-f55eb35e8db8",
   "metadata": {},
   "source": [
    "### [정규 표현식의 용어들](https://ccambo.blogspot.com/2014/10/regular-expression.html)"
   ]
  },
  {
   "cell_type": "code",
   "execution_count": 10,
   "id": "759803ea-deba-4182-b8b1-6a88b65f8070",
   "metadata": {},
   "outputs": [
    {
     "data": {
      "text/html": [
       "<style>\n",
       "table {float:left}\n",
       "</style>\n"
      ],
      "text/plain": [
       "<IPython.core.display.HTML object>"
      ]
     },
     "metadata": {},
     "output_type": "display_data"
    }
   ],
   "source": [
    "%%html\n",
    "<style>\n",
    "table {float:left}\n",
    "</style>"
   ]
  },
  {
   "cell_type": "markdown",
   "id": "bfb90628-4dde-4f12-ab70-637456933964",
   "metadata": {},
   "source": [
    "|표현식|의미|\n",
    "|------|----|\n",
    "|^x | 문자열의 시작을 표현하며 x 문자로 시작됨을 의미한다.|\n",
    "|x$ | 문자열의 종료를 표현하며 x 문자로 종료됨을 의미한다.|     \n",
    "|.x | 임의의 한 문자의 자리수를 표현하며 문자열이 x 로 끝난다는 것을 의미한다.|     \n",
    "|x+ | 반복을 표현하며 x 문자가 한번 이상 반복됨을 의미한다.|\n",
    "|x? | 존재여부를 표현하며 x 문자가 존재할 수도, 존재하지 않을 수도 있음을 의미한다.|\n",
    "|x*|  반복여부를 표현하며 x 문자가 0번 또는 그 이상 반복됨을 의미한다.|\n",
    "|(x) | 그룹을 표현하며 x 를 그룹으로 처리함을 의미한다.|\n",
    "|(x)(y)|  그룹들의 집합을 표현하며 앞에서 부터 순서대로 번호를 부여하여 관리하고 x, y 는 각 그룹의 데이터로 관리된다.|\n",
    "|(x)(?:y) | 그룹들의 집합에 대한 예외를 표현하며 그룹 집합으로 관리되지 않음을 의미한다. |\n",
    "| x{n}| 반복을 표현하며 x 문자가 n번 반복됨을 의미한다.|\n",
    "|x{n,}| 반복을 표현하며 x 문자가 n번 이상 반복됨을 의미한다.|   \n",
    "|x{n,m}|  반복을 표현하며 x 문자가 최소 n번 이상 최대 m 번 이하로 반복됨을 의미한다.|\n"
   ]
  },
  {
   "cell_type": "markdown",
   "id": "d0d631d5-4cdd-4f35-9bae-52e2d5dfb4ca",
   "metadata": {},
   "source": [
    "아래는 좀 더 특수하게 사용되는 문자들이다.\n",
    "\n",
    "[]는 내부에 지정된 문자열의 범위 중 하나를 선택하겠다는 의미다.\n",
    "리스트와 비슷하다."
   ]
  },
  {
   "cell_type": "markdown",
   "id": "9600abc6-af95-4368-8b1b-0e26190104d6",
   "metadata": {},
   "source": [
    "|표현식|의미|\n",
    "|------|----|\n",
    "|[xy]|문자 선택을 표현하며 x 와 y 중에 하나를 의미한다.|\n",
    "|[^xy]|not 을 표현하며  x 및 y 를 제외한 문자를 의미한다.|\n",
    "|[x-z]|range를 표현하며 x ~ z 사이의 문자를 의미한다. |\n",
    "|\\^| escape 를 표현하며 ^ 를 문자로 사용함을 의미한다.|\n",
    "|\\b| word boundary를 표현하며 문자와 공백사이의 문자를 의미한다.|\n",
    "|\\B|non word boundary를 표현하며 문자와 공백사이가 아닌 문자를 의미한다.|\n",
    "|\\d|digit 를 표현하며 숫자를 의미한다. |\n",
    "|\\D|non digit 를 표현하며 숫자가 아닌 것을 의미한다.| \n",
    "|\\s|space 를 표현하며 공백 문자를 의미한다. |\n",
    "|\\S|non space를 표현하며 공백 문자가 아닌 것을 의미한다.|\n",
    "|\\t|tab 을 표현하며 탭 문자를 의미한다.|\n",
    "|\\v|vertical tab을 표현하며 수직 탭(?) 문자를 의미한다.|\n",
    "|\\w|word 를 표현하며 알파벳 + 숫자 + _ 중의 한 문자임을 의미한다.| \n",
    "|\\W|non word를 표현하며 알파벳 + 숫자 + _ 가 아닌 문자를 의미한다.| "
   ]
  },
  {
   "cell_type": "markdown",
   "id": "59ffe6d3-4fa5-4da4-9a18-f70d21fc1bf9",
   "metadata": {},
   "source": [
    "[참고 및 출처](https://ccambo.blogspot.com/2014/10/regular-expression.html)"
   ]
  },
  {
   "cell_type": "markdown",
   "id": "56050325-3822-475e-9c86-f9fd8d7ff9ca",
   "metadata": {},
   "source": [
    "## 실전이다. "
   ]
  },
  {
   "cell_type": "markdown",
   "id": "4134c1d1-5afd-403d-b63d-571cd7d36197",
   "metadata": {},
   "source": [
    "정규표현식을 작성하면 이해하기 쉽도록 [도식화](https://regexper.com/)해주는 사이트를 이용해 연습해보자.\n",
    "\n",
    "세상 참 좋다."
   ]
  },
  {
   "cell_type": "markdown",
   "id": "1a7ac7bf-79fc-415c-87c7-109a653e9ba6",
   "metadata": {},
   "source": [
    "### 참고할 사례들"
   ]
  },
  {
   "cell_type": "raw",
   "id": "0278b1e7-214e-424f-a8a2-c6c87b147931",
   "metadata": {},
   "source": [
    "- 한글 코드 (단순) \n",
    "  /[ㄱ-ㅎ|ㅏ-ㅣ|가-힣]/ 로 구성이 가능하다. 단, 한글 문제는 단순하지 않으므로 좀 더 좋은 방법을 찾는 것이 좋다.\n",
    "\n",
    "- 숫자\n",
    "  /[0-9]/g\n",
    "\n",
    "- 이메일\n",
    "  /^[0-9a-zA-Z]([-_\\.]?[0-9a-zA-Z])*@[0-9a-zA-Z]([-_\\.]?[0-9a-zA-Z])*\\.[a-zA-Z]{2,3}$/i\n",
    "    \n",
    "- 모든 공백\n",
    "  /\\s/g \n",
    "\n",
    "- 전화번호\n",
    "  /^\\d{3}-\\d{3,4}-\\d{4}$/ \n",
    "\n",
    "- 핸드폰 번호 \n",
    "  /^01([0|1|6|7|8|9]?)-?([0-9]{3,4})-?([0-9]{4})$/   \n",
    "\n",
    "- URL\n",
    "  ^(https?):\\/\\/([^:\\/\\s]+)(:([^\\/]*))?((\\/[^\\s/\\/]+)*)?\\/?([^#\\s\\?]*)(\\?([^#\\s]*))?(#(\\w*))?$|"
   ]
  },
  {
   "cell_type": "markdown",
   "id": "33e5d4e8-aff1-46df-b22a-5c219515622b",
   "metadata": {},
   "source": [
    "이메일 사례를 참고하여 도식화를 해보았다."
   ]
  },
  {
   "cell_type": "markdown",
   "id": "fde3c960-ac17-4521-95cd-11d6a42c4110",
   "metadata": {},
   "source": [
    "![image](https://github.com/user-attachments/assets/191c0c56-cede-4982-b57e-70c29494075f)"
   ]
  },
  {
   "cell_type": "code",
   "execution_count": null,
   "id": "9b02656b-70d9-4819-a51e-65fd2d1d92bd",
   "metadata": {},
   "outputs": [],
   "source": []
  }
 ],
 "metadata": {
  "kernelspec": {
   "display_name": "Python 3 (ipykernel)",
   "language": "python",
   "name": "python3"
  },
  "language_info": {
   "codemirror_mode": {
    "name": "ipython",
    "version": 3
   },
   "file_extension": ".py",
   "mimetype": "text/x-python",
   "name": "python",
   "nbconvert_exporter": "python",
   "pygments_lexer": "ipython3",
   "version": "3.10.14"
  }
 },
 "nbformat": 4,
 "nbformat_minor": 5
}
